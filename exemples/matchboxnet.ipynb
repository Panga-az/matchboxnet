{
 "cells": [
  {
   "cell_type": "markdown",
   "id": "128f648f",
   "metadata": {},
   "source": [
    "### How to use matchboxnet to train a model to classify ('awɔ', 'ayi', 'foyi') audio."
   ]
  },
  {
   "cell_type": "markdown",
   "id": "6f6d5928",
   "metadata": {},
   "source": [
    "#### Installation"
   ]
  },
  {
   "cell_type": "code",
   "execution_count": null,
   "id": "ae70d2b9",
   "metadata": {},
   "outputs": [],
   "source": [
    "!pip install git+https://github.com/Panga-az/matchboxnet.git"
   ]
  },
  {
   "cell_type": "markdown",
   "id": "a396d3e7",
   "metadata": {},
   "source": [
    "#### Import modules"
   ]
  },
  {
   "cell_type": "code",
   "execution_count": null,
   "id": "31b55973",
   "metadata": {},
   "outputs": [],
   "source": [
    "from matchboxnet.config import MatchboxNetConfig\n",
    "from matchboxnet.model import MatchboxNetForAudioClassification\n",
    "from matchboxnet.dataset import MatchboxNetDataset\n",
    "from matchboxnet.feature_extraction import MatchboxNetFeatureExtractor\n",
    "from datasets import load_dataset"
   ]
  },
  {
   "cell_type": "markdown",
   "id": "1d8353e6",
   "metadata": {},
   "source": [
    "#### Load datasets from Hugging Face"
   ]
  },
  {
   "cell_type": "code",
   "execution_count": null,
   "id": "a3f4bc5a",
   "metadata": {},
   "outputs": [],
   "source": [
    "ds = load_dataset('Panga-Azazia/Bambara-Keyword-Spotting-Aug')"
   ]
  },
  {
   "cell_type": "markdown",
   "id": "6228bc0d",
   "metadata": {},
   "source": [
    "#### Split dataset"
   ]
  },
  {
   "cell_type": "code",
   "execution_count": null,
   "id": "fcfa03d4",
   "metadata": {},
   "outputs": [],
   "source": [
    "ds_train = ds[\"train\"]\n",
    "ds_eval = ds[\"validation\"]\n",
    "ds_test = ds[\"test\"]"
   ]
  },
  {
   "cell_type": "markdown",
   "id": "dafcfe26",
   "metadata": {},
   "source": [
    "#### Make labels, num_classes, id2label, label2id"
   ]
  },
  {
   "cell_type": "code",
   "execution_count": null,
   "id": "03f7e976",
   "metadata": {},
   "outputs": [],
   "source": [
    "labels = ds_train.features[\"label\"].names \n",
    "\n",
    "print(f\" labels: {labels}\")"
   ]
  },
  {
   "cell_type": "code",
   "execution_count": null,
   "id": "28ccbdbc",
   "metadata": {},
   "outputs": [],
   "source": [
    "label2id = {lab: i for i, lab in enumerate(labels)}\n",
    "id2label = {i: lab for lab, i in label2id.items()}\n",
    "\n",
    "num_classes = len(labels)"
   ]
  },
  {
   "cell_type": "markdown",
   "id": "d01fb6ef",
   "metadata": {},
   "source": [
    "#### Make model config"
   ]
  },
  {
   "cell_type": "code",
   "execution_count": null,
   "id": "2bf49227",
   "metadata": {},
   "outputs": [],
   "source": [
    "#Here we use default config, we just update id2label , label2id and num_classes\n",
    "config = MatchboxNetConfig(\n",
    "    num_classes=num_classes,\n",
    "    id2label = id2label,\n",
    "    label2id =label2id,\n",
    ")"
   ]
  },
  {
   "cell_type": "code",
   "execution_count": null,
   "id": "a6377f8e",
   "metadata": {},
   "outputs": [],
   "source": [
    "fe = MatchboxNetFeatureExtractor()"
   ]
  },
  {
   "cell_type": "code",
   "execution_count": null,
   "id": "f1fbd663",
   "metadata": {},
   "outputs": [],
   "source": [
    "config.save_pretrained(\"matchboxnet\")\n",
    "fe.save_pretrained(\"matchboxnet\")"
   ]
  },
  {
   "cell_type": "markdown",
   "id": "8cd2e9b8",
   "metadata": {},
   "source": [
    "#### Prepare datasets for training"
   ]
  },
  {
   "cell_type": "code",
   "execution_count": null,
   "id": "2415bf16",
   "metadata": {},
   "outputs": [],
   "source": [
    "train_ds = MatchboxNetDataset(ds_train, config = config, augment=True)\n",
    "eval_ds = MatchboxNetDataset(ds_eval, config = config, augment=False)\n",
    "test_ds = MatchboxNetDataset(ds_test, config = config, augment=False)"
   ]
  },
  {
   "cell_type": "markdown",
   "id": "976c8148",
   "metadata": {},
   "source": [
    "#### Make the model"
   ]
  },
  {
   "cell_type": "code",
   "execution_count": null,
   "id": "1f6d65ec",
   "metadata": {},
   "outputs": [],
   "source": [
    "import torch\n",
    "device   = torch.device(\"cuda\" if torch.cuda.is_available() else \"cpu\")"
   ]
  },
  {
   "cell_type": "code",
   "execution_count": null,
   "id": "8429c670",
   "metadata": {},
   "outputs": [],
   "source": [
    "model = MatchboxNetForAudioClassification(config=config)\n",
    "model.to(device)"
   ]
  },
  {
   "cell_type": "markdown",
   "id": "1828bf5a",
   "metadata": {},
   "source": [
    "#### Make Compute metrics\n"
   ]
  },
  {
   "cell_type": "code",
   "execution_count": null,
   "id": "a7ff23ff",
   "metadata": {},
   "outputs": [],
   "source": [
    "import evaluate\n",
    "\n",
    "accuracy_metric = evaluate.load(\"accuracy\")\n",
    "def compute_metrics(eval_pred):\n",
    "    logits, labels = eval_pred\n",
    "    preds = logits.argmax(axis=1)\n",
    "    return accuracy_metric.compute(predictions=preds, references=labels)"
   ]
  },
  {
   "cell_type": "markdown",
   "id": "a923a0f9",
   "metadata": {},
   "source": [
    "#### Make training"
   ]
  },
  {
   "cell_type": "code",
   "execution_count": null,
   "id": "92ad43b2",
   "metadata": {},
   "outputs": [],
   "source": [
    "hub_id = \"Panga-Azazia/matchboxnet3x2x64-google-speech_commands-1\" #change to yours\n",
    "batch_size = 4096\n",
    "eval_steps = 100\n",
    "epochs = 1000\n",
    "gradient_accumulation_steps = 16\n",
    "logging_steps = 100\n",
    "save_steps = 100\n",
    "save_total_limit = 3\n",
    "dataloader_num_workers = 12"
   ]
  },
  {
   "cell_type": "markdown",
   "id": "44b31348",
   "metadata": {},
   "source": [
    "##### Connect you to the hub with your tokens"
   ]
  },
  {
   "cell_type": "code",
   "execution_count": null,
   "id": "09e44223",
   "metadata": {},
   "outputs": [],
   "source": [
    "from huggingface_hub import notebook_login\n",
    "\n",
    "notebook_login()"
   ]
  },
  {
   "cell_type": "code",
   "execution_count": null,
   "id": "c759d79d",
   "metadata": {},
   "outputs": [],
   "source": [
    "from transformers import TrainingArguments, Trainer, EarlyStoppingCallback\n",
    "\n",
    "training_args = TrainingArguments(\n",
    "    output_dir=\"./matchboxnet\",\n",
    "    per_device_train_batch_size=batch_size,\n",
    "    per_device_eval_batch_size=batch_size,\n",
    "    num_train_epochs=epochs,\n",
    "    gradient_accumulation_steps=gradient_accumulation_steps,\n",
    "    eval_strategy=\"steps\",\n",
    "    eval_steps=eval_steps,\n",
    "    logging_dir=\"./matchboxnet/logs\",\n",
    "    logging_steps=logging_steps,\n",
    "    save_strategy=\"steps\",\n",
    "    save_steps=save_steps,\n",
    "    save_total_limit=save_total_limit,\n",
    "    push_to_hub=True,\n",
    "    hub_model_id=hub_id,\n",
    "    hub_strategy=\"end\",\n",
    "    report_to=[\"tensorboard\"],\n",
    "    load_best_model_at_end=True,\n",
    "    metric_for_best_model=\"accuracy\",\n",
    "    greater_is_better=True,\n",
    "    fp16=True,\n",
    "    seed=0,\n",
    "    remove_unused_columns=False,\n",
    "    do_predict=True,\n",
    "    do_train=True,\n",
    "    dataloader_num_workers=dataloader_num_workers,\n",
    "    resume_from_checkpoint=True,\n",
    ")"
   ]
  },
  {
   "cell_type": "code",
   "execution_count": null,
   "id": "216e1cb8",
   "metadata": {},
   "outputs": [],
   "source": [
    "trainer = Trainer(\n",
    "    model=model,\n",
    "    args=training_args,\n",
    "    train_dataset=train_ds,\n",
    "    eval_dataset=eval_ds,\n",
    "    compute_metrics=compute_metrics,\n",
    "    callbacks=[EarlyStoppingCallback(early_stopping_patience=3)],\n",
    "\n",
    ")"
   ]
  },
  {
   "cell_type": "code",
   "execution_count": null,
   "id": "5956114f",
   "metadata": {},
   "outputs": [],
   "source": [
    "trainer.train()"
   ]
  },
  {
   "cell_type": "markdown",
   "id": "213a9390",
   "metadata": {},
   "source": [
    "##### Predict on your test dataset"
   ]
  },
  {
   "cell_type": "code",
   "execution_count": null,
   "id": "271db710",
   "metadata": {},
   "outputs": [],
   "source": [
    "trainer.predict(test_ds)"
   ]
  },
  {
   "cell_type": "markdown",
   "id": "543c512f",
   "metadata": {},
   "source": [
    "##### Push your model"
   ]
  },
  {
   "cell_type": "code",
   "execution_count": null,
   "id": "7f47b6f9",
   "metadata": {},
   "outputs": [],
   "source": [
    "trainer.push_to_hub()"
   ]
  },
  {
   "cell_type": "markdown",
   "id": "b01fd310",
   "metadata": {},
   "source": [
    "### How to use the model with real examples"
   ]
  },
  {
   "cell_type": "code",
   "execution_count": null,
   "id": "87f7f265",
   "metadata": {},
   "outputs": [],
   "source": [
    "import glob"
   ]
  },
  {
   "cell_type": "code",
   "execution_count": null,
   "id": "8670e131",
   "metadata": {},
   "outputs": [],
   "source": [
    "oui = glob.glob(\"./oui/**\")\n",
    "non = glob.glob(\"./non/**\")\n",
    "rien = glob.glob(\"./rien/**\")\n"
   ]
  },
  {
   "cell_type": "code",
   "execution_count": null,
   "id": "9d68f56e",
   "metadata": {},
   "outputs": [],
   "source": [
    "all = oui  + non + rien"
   ]
  },
  {
   "cell_type": "code",
   "execution_count": null,
   "id": "4563dc70",
   "metadata": {},
   "outputs": [],
   "source": [
    "all"
   ]
  },
  {
   "cell_type": "code",
   "execution_count": null,
   "id": "fcc0aab8",
   "metadata": {},
   "outputs": [],
   "source": [
    "from matchboxnet.model import MatchboxNetForAudioClassification\n",
    "from matchboxnet.feature_extraction import MatchboxNetFeatureExtractor\n",
    "\n",
    "model = MatchboxNetForAudioClassification.from_pretrained(\"Panga-Azazia/matchboxnet3x2x64-bambara-a-c\")\n",
    "feature_extractor = MatchboxNetFeatureExtractor.from_pretrained(\"Panga-Azazia/matchboxnet3x2x64-bambara-a-c\")"
   ]
  },
  {
   "cell_type": "code",
   "execution_count": null,
   "id": "ea5fc9b3",
   "metadata": {},
   "outputs": [],
   "source": [
    "!pip install sounddevice"
   ]
  },
  {
   "cell_type": "code",
   "execution_count": null,
   "id": "0a0531bd",
   "metadata": {},
   "outputs": [],
   "source": [
    "batch = feature_extractor(\n",
    "    all,\n",
    "    return_tensors=\"pt\"\n",
    ")\n"
   ]
  },
  {
   "cell_type": "code",
   "execution_count": null,
   "id": "55bda0fa",
   "metadata": {},
   "outputs": [],
   "source": [
    "batch[\"paths\"] = all "
   ]
  },
  {
   "cell_type": "code",
   "execution_count": null,
   "id": "99575a01",
   "metadata": {},
   "outputs": [],
   "source": [
    "import torch\n",
    "import sounddevice as sd\n",
    "import torchaudio\n",
    "import time\n",
    "\n",
    "with torch.no_grad():\n",
    "    outputs = model(**batch)\n",
    "\n",
    "preds = outputs.logits.argmax(-1)  \n",
    "model.config.id2label = {int(k): v for k, v in model.config.id2label.items()}\n",
    "labels = [model.config.id2label[i.item()] for i in preds]\n",
    "\n",
    "for path, label in zip(batch[\"paths\"], labels):\n",
    "    print(f\"{path} → {label}\")\n",
    "    waveform, sr = torchaudio.load(path)\n",
    "    sd.play(waveform.numpy().squeeze(), samplerate=sr)\n",
    "    sd.wait()  \n",
    "    time.sleep(0.5) "
   ]
  }
 ],
 "metadata": {
  "kernelspec": {
   "display_name": "Python 3",
   "language": "python",
   "name": "python3"
  },
  "language_info": {
   "codemirror_mode": {
    "name": "ipython",
    "version": 3
   },
   "file_extension": ".py",
   "mimetype": "text/x-python",
   "name": "python",
   "nbconvert_exporter": "python",
   "pygments_lexer": "ipython3",
   "version": "3.10.12"
  }
 },
 "nbformat": 4,
 "nbformat_minor": 5
}
